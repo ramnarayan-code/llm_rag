{
  "nbformat": 4,
  "nbformat_minor": 0,
  "metadata": {
    "colab": {
      "provenance": [],
      "authorship_tag": "ABX9TyNB8aNiC0YeHhQ0NN8hI+zA",
      "include_colab_link": true
    },
    "kernelspec": {
      "name": "python3",
      "display_name": "Python 3"
    },
    "language_info": {
      "name": "python"
    }
  },
  "cells": [
    {
      "cell_type": "markdown",
      "metadata": {
        "id": "view-in-github",
        "colab_type": "text"
      },
      "source": [
        "<a href=\"https://colab.research.google.com/github/ramnarayan-code/llm_rag/blob/main/generic_rag.ipynb\" target=\"_parent\"><img src=\"https://colab.research.google.com/assets/colab-badge.svg\" alt=\"Open In Colab\"/></a>"
      ]
    },
    {
      "cell_type": "code",
      "execution_count": null,
      "metadata": {
        "id": "qeNneg1PTh7X"
      },
      "outputs": [],
      "source": [
        "%pip install -U llama-index llama-index-llms-gemini llama-index-embeddings-gemini"
      ]
    },
    {
      "cell_type": "code",
      "source": [
        "import os\n",
        "import pandas as pd\n",
        "\n",
        "from llama_index.core import VectorStoreIndex, SimpleDirectoryReader, ServiceContext\n",
        "from llama_index.core.node_parser import SimpleNodeParser\n",
        "from llama_index.llms.gemini import Gemini\n",
        "from llama_index.embeddings.gemini import GeminiEmbedding\n",
        "\n",
        "from llama_index.core.settings import Settings\n"
      ],
      "metadata": {
        "id": "0WmeTlIuUNU7"
      },
      "execution_count": null,
      "outputs": []
    },
    {
      "cell_type": "code",
      "source": [
        "os.environ['GOOGLE_API_KEY'] = \"\""
      ],
      "metadata": {
        "id": "UPmF4Pl8Uhqc"
      },
      "execution_count": null,
      "outputs": []
    },
    {
      "cell_type": "code",
      "source": [
        "llm = Gemini(model=\"models/gemini-1.5-flash\")\n",
        "embed_model = GeminiEmbedding(model_name=\"models/embedding-001\")\n",
        "\n",
        "Settings.llm = llm\n",
        "Settings.embed_model = embed_model\n",
        "Settings.chunk_size = 512\n",
        "class InformationRetriever:\n",
        "  def index_documents(self, document_path):\n",
        "    documents = SimpleDirectoryReader(document_path).load_data()\n",
        "    node_parser = SimpleNodeParser.from_defaults(chunk_size=512)\n",
        "    nodes = node_parser.get_nodes_from_documents(documents)\n",
        "    vector_index = VectorStoreIndex(nodes)\n",
        "    self.__query_engine = vector_index.as_query_engine()\n",
        "\n",
        "  def query(self, question):\n",
        "    return self.__query_engine.query(question)\n",
        "\n",
        "\n"
      ],
      "metadata": {
        "id": "ydFaOVW8WLPO"
      },
      "execution_count": null,
      "outputs": []
    },
    {
      "cell_type": "code",
      "source": [
        "info_retriever = InformationRetriever()\n",
        "info_retriever.index_documents(\"/content/rag_data/\")"
      ],
      "metadata": {
        "id": "HHFPl4dEYrwi"
      },
      "execution_count": null,
      "outputs": []
    },
    {
      "cell_type": "code",
      "source": [
        "info_retriever.query(\"Benefits from a cloud native firewall?\")"
      ],
      "metadata": {
        "id": "IYyG8ebAY0Ia"
      },
      "execution_count": null,
      "outputs": []
    }
  ]
}